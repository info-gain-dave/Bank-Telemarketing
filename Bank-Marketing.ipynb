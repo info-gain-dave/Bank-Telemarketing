{
 "cells": [
  {
   "cell_type": "markdown",
   "metadata": {},
   "source": [
    "## Banking Loan Subscription:\n",
    "## Predicting Customer Subscription And Categorizing Customers Based on Call Duration and Subscription."
   ]
  },
  {
   "cell_type": "markdown",
   "metadata": {},
   "source": [
    "### 1. DESCRIPTION OF PORTUGESE BANK MARKETING DATASET\n",
    "Taken from UCI Machine Learning Repository.\n",
    "https://archive.ics.uci.edu/ml/datasets/bank+marketing"
   ]
  },
  {
   "cell_type": "markdown",
   "metadata": {},
   "source": [
    "Source:\n",
    "\n",
    "[Moro et al., 2014] S. Moro, P. Cortez and P. Rita. A Data-Driven Approach to Predict the Success of Bank Telemarketing. Decision Support Systems, Elsevier, 62:22-31, June 2014\n",
    "\n",
    "\n",
    "Data Set Information:\n",
    "\n",
    "The data is related with direct marketing campaigns of a Portuguese banking institution. The marketing campaigns were based on phone calls. Often, more than one contact to the same client was required, in order to access if the product (bank term deposit) would be ('yes') or not ('no') subscribed. \n",
    "\n",
    "There are four datasets: \n",
    "1) bank-additional-full.csv with all examples (41188) and 20 inputs, ordered by date (from May 2008 to November 2010), very close to the data analyzed in [Moro et al., 2014]\n",
    "2) bank-additional.csv with 10% of the examples (4119), randomly selected from 1), and 20 inputs.\n",
    "3) bank-full.csv with all examples and 17 inputs, ordered by date (older version of this dataset with less inputs). \n",
    "4) bank.csv with 10% of the examples and 17 inputs, randomly selected from 3 (older version of this dataset with less inputs). \n",
    "The smallest datasets are provided to test more computationally demanding machine learning algorithms (e.g., SVM). \n",
    "\n",
    "The classification goal is to predict if the client will subscribe (yes/no) a term deposit (variable y).\n",
    "\n",
    "\n",
    "Attribute Information:\n",
    "\n",
    "Input variables:\n",
    "# bank client data:\n",
    "1 - age (numeric)\n",
    "2 - job : type of job (categorical: 'admin.','blue-collar','entrepreneur','housemaid','management','retired','self-employed','services','student','technician','unemployed','unknown')\n",
    "3 - marital : marital status (categorical: 'divorced','married','single','unknown'; note: 'divorced' means divorced or widowed)\n",
    "4 - education (categorical: 'basic.4y','basic.6y','basic.9y','high.school','illiterate','professional.course','university.degree','unknown')\n",
    "5 - default: has credit in default? (categorical: 'no','yes','unknown')\n",
    "6 - housing: has housing loan? (categorical: 'no','yes','unknown')\n",
    "7 - loan: has personal loan? (categorical: 'no','yes','unknown')\n",
    "# related with the last contact of the current campaign:\n",
    "8 - contact: contact communication type (categorical: 'cellular','telephone') \n",
    "9 - month: last contact month of year (categorical: 'jan', 'feb', 'mar', ..., 'nov', 'dec')\n",
    "10 - day_of_week: last contact day of the week (categorical: 'mon','tue','wed','thu','fri')\n",
    "11 - duration: last contact duration, in seconds (numeric). Important note: this attribute highly affects the output target (e.g., if duration=0 then y='no'). Yet, the duration is not known before a call is performed. Also, after the end of the call y is obviously known. Thus, this input should only be included for benchmark purposes and should be discarded if the intention is to have a realistic predictive model.\n",
    "# other attributes:\n",
    "12 - campaign: number of contacts performed during this campaign and for this client (numeric, includes last contact)\n",
    "13 - pdays: number of days that passed by after the client was last contacted from a previous campaign (numeric; 999 means client was not previously contacted)\n",
    "14 - previous: number of contacts performed before this campaign and for this client (numeric)\n",
    "15 - poutcome: outcome of the previous marketing campaign (categorical: 'failure','nonexistent','success')\n",
    "# social and economic context attributes\n",
    "16 - emp.var.rate: employment variation rate - quarterly indicator (numeric)\n",
    "17 - cons.price.idx: consumer price index - monthly indicator (numeric) \n",
    "18 - cons.conf.idx: consumer confidence index - monthly indicator (numeric) \n",
    "19 - euribor3m: euribor 3 month rate - daily indicator (numeric)\n",
    "20 - nr.employed: number of employees - quarterly indicator (numeric)\n",
    "\n",
    "Output variable (desired target):\n",
    "21 - y - has the client subscribed a term deposit? (binary: 'yes','no')\n",
    "\n",
    "\n",
    "Relevant Papers:\n",
    "\n",
    "S. Moro, P. Cortez and P. Rita. A Data-Driven Approach to Predict the Success of Bank Telemarketing. Decision Support Systems, Elsevier, 62:22-31, June 2014\n",
    "\n",
    "S. Moro, R. Laureano and P. Cortez. Using Data Mining for Bank Direct Marketing: An Application of the CRISP-DM Methodology. In P. Novais et al. (Eds.), Proceedings of the European Simulation and Modelling Conference - ESM'2011, pp. 117-121, Guimaraes, Portugal, October, 2011. EUROSIS. [bank.zip]\n",
    "\n",
    "\n",
    "\n",
    "Citation Request:\n",
    "\n",
    "This dataset is public available for research. The details are described in [Moro et al., 2014]. \n",
    "Please include this citation if you plan to use this database: \n",
    "\n",
    "[Moro et al., 2014] S. Moro, P. Cortez and P. Rita. A Data-Driven Approach to Predict the Success of Bank Telemarketing. Decision Support Systems, Elsevier, 62:22-31, June 2014"
   ]
  },
  {
   "cell_type": "markdown",
   "metadata": {},
   "source": [
    "### 1.1 LOADING DATA & REQUIRED PACKAGES"
   ]
  },
  {
   "cell_type": "code",
   "execution_count": 1,
   "metadata": {},
   "outputs": [],
   "source": [
    "# Import necessary packages\n",
    "import pandas as pd\n",
    "import numpy as np\n",
    "import time\n",
    "\n",
    "# Import data cleaning and model accuracy tools\n",
    "#from sklearn.model_selection import train_test_split # Splits data\n",
    "from sklearn.preprocessing import LabelEncoder # Convert categor. to numeric\n",
    "from sklearn.metrics import confusion_matrix # Confusion matrix\n",
    "from sklearn.metrics import accuracy_score # Test accuracy of model predoctions\n",
    "from sklearn.preprocessing import StandardScaler\n",
    "from sklearn.metrics import confusion_matrix\n",
    "from sklearn.metrics import roc_auc_score\n",
    "from sklearn import metrics\n",
    "# Dimension reduction\n",
    "from sklearn.decomposition import PCA\n",
    "from sklearn.discriminant_analysis import LinearDiscriminantAnalysis as LDA\n",
    "\n",
    "# Import models\n",
    "from sklearn.ensemble import GradientBoostingClassifier\n",
    "from sklearn.linear_model import LogisticRegression\n",
    "from sklearn.neighbors import KNeighborsClassifier\n",
    "from sklearn.ensemble import RandomForestClassifier\n",
    "from sklearn import svm\n",
    "\n",
    "# Data Viz\n",
    "import matplotlib.pyplot as plt\n",
    "import seaborn as sns   \n",
    "#import altair as alt\n",
    "#alt.renderers.enable('notebook') # Enabled Altair to work in notebook"
   ]
  },
  {
   "cell_type": "markdown",
   "metadata": {},
   "source": [
    "### 1.1 DATASET USED IN THIS PROJECT\n",
    "##### bank-additional-full.csv\n",
    "##### 41188 instances and 20 potential predictor variables, ordered by date (from May 2008 to November 2010)\n",
    "##### Very similar to the data analyzed in [Moro et al., 2014] \n",
    "S. Moro, P. Cortez and P. Rita. A Data-Driven Approach to Predict the Success of Bank Telemarketing."
   ]
  },
  {
   "cell_type": "code",
   "execution_count": 2,
   "metadata": {},
   "outputs": [],
   "source": [
    "# Import data\n",
    "df = pd.read_csv(\"C:/Users/david/Desktop/Project_Anylit_&_Algos/bank/bank-additional-full.csv\", encoding = \"ISO-8859-1\")   "
   ]
  },
  {
   "cell_type": "markdown",
   "metadata": {},
   "source": [
    "### 1.2 EXPLORING VARIABLES "
   ]
  },
  {
   "cell_type": "code",
   "execution_count": 8,
   "metadata": {},
   "outputs": [
    {
     "name": "stdout",
     "output_type": "stream",
     "text": [
      "1 to 20 are predictor variables, y is the target i.e. subscribed to loan deposit yes/no.\n",
      "\n",
      "1    age\n",
      "2    job\n",
      "3    marital\n",
      "4    education\n",
      "5    default\n",
      "6    housing\n",
      "7    loan\n",
      "8    contact\n",
      "9    month\n",
      "10    day_of_week\n",
      "11    duration\n",
      "12    campaign\n",
      "13    pdays\n",
      "14    previous\n",
      "15    poutcome\n",
      "16    emp.var.rate\n",
      "17    cons.price.idx\n",
      "18    cons.conf.idx\n",
      "19    euribor3m\n",
      "20    nr.employed\n",
      "21    y\n"
     ]
    }
   ],
   "source": [
    "x=1\n",
    "print(\"1 to 20 are predictor variables, y is the target i.e. subscribed to loan deposit yes/no.\\n\")\n",
    "for col in df.columns:\n",
    "    print(x,\"  \",col)\n",
    "    x+=1"
   ]
  },
  {
   "cell_type": "markdown",
   "metadata": {},
   "source": [
    "### 1.3 DATATYPES by COLUMN\n",
    "Object-datatype columns need to be transformed to Numeric-datatypes for machine learning use."
   ]
  },
  {
   "cell_type": "code",
   "execution_count": 9,
   "metadata": {},
   "outputs": [
    {
     "name": "stdout",
     "output_type": "stream",
     "text": [
      "age                 int64\n",
      "job                object\n",
      "marital            object\n",
      "education          object\n",
      "default            object\n",
      "housing            object\n",
      "loan               object\n",
      "contact            object\n",
      "month              object\n",
      "day_of_week        object\n",
      "duration            int64\n",
      "campaign            int64\n",
      "pdays               int64\n",
      "previous            int64\n",
      "poutcome           object\n",
      "emp.var.rate      float64\n",
      "cons.price.idx    float64\n",
      "cons.conf.idx     float64\n",
      "euribor3m         float64\n",
      "nr.employed       float64\n",
      "y                  object\n",
      "dtype: object\n"
     ]
    }
   ],
   "source": [
    "print(df.dtypes) "
   ]
  },
  {
   "cell_type": "markdown",
   "metadata": {},
   "source": [
    "### 1.4 EXPLORING THE CATEGORICAL VARIABLES"
   ]
  },
  {
   "cell_type": "code",
   "execution_count": 10,
   "metadata": {},
   "outputs": [],
   "source": [
    "def get_unique(col):\n",
    "    print(\"\\nCOLUMN:\",col)\n",
    "    print(\"COUNT UNIQUE VALUES:\",len(df[col].unique()))\n",
    "    print(\"UNIQUE VALUES:\",df[col].unique())"
   ]
  },
  {
   "cell_type": "code",
   "execution_count": 11,
   "metadata": {},
   "outputs": [
    {
     "name": "stdout",
     "output_type": "stream",
     "text": [
      "\n",
      "COLUMN: job\n",
      "COUNT UNIQUE VALUES: 12\n",
      "UNIQUE VALUES: ['housemaid' 'services' 'admin.' 'blue-collar' 'technician' 'retired'\n",
      " 'management' 'unemployed' 'self-employed' 'unknown' 'entrepreneur'\n",
      " 'student']\n",
      "\n",
      "COLUMN: marital\n",
      "COUNT UNIQUE VALUES: 4\n",
      "UNIQUE VALUES: ['married' 'single' 'divorced' 'unknown']\n",
      "\n",
      "COLUMN: education\n",
      "COUNT UNIQUE VALUES: 8\n",
      "UNIQUE VALUES: ['basic.4y' 'high.school' 'basic.6y' 'basic.9y' 'professional.course'\n",
      " 'unknown' 'university.degree' 'illiterate']\n",
      "\n",
      "COLUMN: default\n",
      "COUNT UNIQUE VALUES: 3\n",
      "UNIQUE VALUES: ['no' 'unknown' 'yes']\n",
      "\n",
      "COLUMN: housing\n",
      "COUNT UNIQUE VALUES: 3\n",
      "UNIQUE VALUES: ['no' 'yes' 'unknown']\n",
      "\n",
      "COLUMN: loan\n",
      "COUNT UNIQUE VALUES: 3\n",
      "UNIQUE VALUES: ['no' 'yes' 'unknown']\n",
      "\n",
      "COLUMN: contact\n",
      "COUNT UNIQUE VALUES: 2\n",
      "UNIQUE VALUES: ['telephone' 'cellular']\n",
      "\n",
      "COLUMN: month\n",
      "COUNT UNIQUE VALUES: 10\n",
      "UNIQUE VALUES: ['may' 'jun' 'jul' 'aug' 'oct' 'nov' 'dec' 'mar' 'apr' 'sep']\n",
      "\n",
      "COLUMN: day_of_week\n",
      "COUNT UNIQUE VALUES: 5\n",
      "UNIQUE VALUES: ['mon' 'tue' 'wed' 'thu' 'fri']\n",
      "\n",
      "COLUMN: poutcome\n",
      "COUNT UNIQUE VALUES: 3\n",
      "UNIQUE VALUES: ['nonexistent' 'failure' 'success']\n",
      "\n",
      "COLUMN: y\n",
      "COUNT UNIQUE VALUES: 2\n",
      "UNIQUE VALUES: ['no' 'yes']\n"
     ]
    }
   ],
   "source": [
    "for col in df.columns:\n",
    "    if df[col].dtype == object:\n",
    "        get_unique(col)"
   ]
  },
  {
   "cell_type": "markdown",
   "metadata": {},
   "source": [
    "#### DROP UNHELPFUL COLUMNS"
   ]
  },
  {
   "cell_type": "markdown",
   "metadata": {},
   "source": [
    "### 1.5 CONVERTING CATEGORICAL VARIABLES TO NUMERIC"
   ]
  },
  {
   "cell_type": "markdown",
   "metadata": {},
   "source": [
    "### 1.6 BINARY CATEGORICAL TO NUMBER.\n",
    "4 Columns are categorical variables with only two levels: \"yes\" or \"no\". We use Sklearn LabelEncoder to convert these to numeric 1 or 0.\n",
    "default, housing, loan and y(target variable)."
   ]
  },
  {
   "cell_type": "code",
   "execution_count": 12,
   "metadata": {},
   "outputs": [],
   "source": [
    "number = LabelEncoder()\n",
    "df[\"default\"] = number.fit_transform(df[\"default\"].astype('str'))\n",
    "df[\"housing\"] = number.fit_transform(df[\"housing\"].astype('str'))\n",
    "df[\"loan\"] = number.fit_transform(df[\"loan\"].astype('str'))\n",
    "df[\"y\"] = number.fit_transform(df[\"y\"].astype('str'))"
   ]
  },
  {
   "cell_type": "markdown",
   "metadata": {},
   "source": [
    "### 1.7 MONTH STRING VALUES\n",
    "The month column was converted from string values to integer values"
   ]
  },
  {
   "cell_type": "code",
   "execution_count": 13,
   "metadata": {},
   "outputs": [],
   "source": [
    "the_months = {'may': 5,'jun': 6, 'jul': 7, 'aug': 8, 'oct': 10, 'nov': 11, 'dec': 12,  'jan': 1, 'feb': 2,\\\n",
    "              'mar': 3, 'apr': 4, 'sep': 9} # Dictionary for mapping values\n",
    "\n",
    "def numeric_months(value): # function maps the dictionary the_months\n",
    "    return the_months[value] \n",
    "\n",
    "df[\"month\"] = df[\"month\"].apply(numeric_months) # convert column"
   ]
  },
  {
   "cell_type": "markdown",
   "metadata": {},
   "source": [
    "### 1.8 ONE HOT ENCODING\n",
    "5 columns with string categoricals remain. One Hot Encoding was used to create new variables for each. The columns were job, marital, education, contact and poutcome."
   ]
  },
  {
   "cell_type": "code",
   "execution_count": 14,
   "metadata": {},
   "outputs": [],
   "source": [
    "df = pd.get_dummies(df) # One hot encoding all remaining variables"
   ]
  },
  {
   "cell_type": "code",
   "execution_count": 15,
   "metadata": {},
   "outputs": [
    {
     "name": "stdout",
     "output_type": "stream",
     "text": [
      "age                                int64\n",
      "default                            int32\n",
      "housing                            int32\n",
      "loan                               int32\n",
      "month                              int64\n",
      "duration                           int64\n",
      "campaign                           int64\n",
      "pdays                              int64\n",
      "previous                           int64\n",
      "emp.var.rate                     float64\n",
      "cons.price.idx                   float64\n",
      "cons.conf.idx                    float64\n",
      "euribor3m                        float64\n",
      "nr.employed                      float64\n",
      "y                                  int32\n",
      "job_admin.                         uint8\n",
      "job_blue-collar                    uint8\n",
      "job_entrepreneur                   uint8\n",
      "job_housemaid                      uint8\n",
      "job_management                     uint8\n",
      "job_retired                        uint8\n",
      "job_self-employed                  uint8\n",
      "job_services                       uint8\n",
      "job_student                        uint8\n",
      "job_technician                     uint8\n",
      "job_unemployed                     uint8\n",
      "job_unknown                        uint8\n",
      "marital_divorced                   uint8\n",
      "marital_married                    uint8\n",
      "marital_single                     uint8\n",
      "marital_unknown                    uint8\n",
      "education_basic.4y                 uint8\n",
      "education_basic.6y                 uint8\n",
      "education_basic.9y                 uint8\n",
      "education_high.school              uint8\n",
      "education_illiterate               uint8\n",
      "education_professional.course      uint8\n",
      "education_university.degree        uint8\n",
      "education_unknown                  uint8\n",
      "contact_cellular                   uint8\n",
      "contact_telephone                  uint8\n",
      "day_of_week_fri                    uint8\n",
      "day_of_week_mon                    uint8\n",
      "day_of_week_thu                    uint8\n",
      "day_of_week_tue                    uint8\n",
      "day_of_week_wed                    uint8\n",
      "poutcome_failure                   uint8\n",
      "poutcome_nonexistent               uint8\n",
      "poutcome_success                   uint8\n",
      "dtype: object\n"
     ]
    }
   ],
   "source": [
    "# Check to see we have numerics for all variables\n",
    "print(df.dtypes) "
   ]
  },
  {
   "cell_type": "markdown",
   "metadata": {},
   "source": [
    "### 2. MACHINE LEARNING ALGORITHMS: PREDICTING LOAN SUBSCRIPTION \n",
    "##### LOGISTIC REGRESSION\n",
    "##### K NEAREST NEIGHBOURS\n",
    "##### GRADIENT BOOSTING CLASSIFIER\n",
    "##### RANDOM FOREST CLASSSIFIER\n",
    "##### SUPPORT VECTOR MACHINE\n",
    "##### NEURAL NETWORK\n"
   ]
  },
  {
   "cell_type": "markdown",
   "metadata": {},
   "source": [
    "### 2.1 SPLIT TRAIN TEST"
   ]
  },
  {
   "cell_type": "code",
   "execution_count": 11,
   "metadata": {},
   "outputs": [],
   "source": [
    "times = []# to store completion times\n",
    "models = []# To store accuracy stats\n",
    "# Split into train/test set\n",
    "test = df.sample(frac=0.2, replace=False, random_state=1)# 20% of data, without replacement, random seed\n",
    "train = df.drop(test.index)"
   ]
  },
  {
   "cell_type": "code",
   "execution_count": 12,
   "metadata": {},
   "outputs": [],
   "source": [
    "train_X = train.drop(columns=['y'])\n",
    "train_y = train['y']\n",
    "test_X = test.drop(columns=['y'])\n",
    "test_y = test['y']"
   ]
  },
  {
   "cell_type": "markdown",
   "metadata": {},
   "source": [
    "### 2.2 STANDARDIZE DATA"
   ]
  },
  {
   "cell_type": "code",
   "execution_count": 13,
   "metadata": {},
   "outputs": [],
   "source": [
    "import warnings# Note i need to convert columns to get rid of these warnings \n",
    "warnings.filterwarnings('ignore')\n",
    "scaler = StandardScaler()\n",
    "scaler.fit(train_X) # fit scaler with training\n",
    "train_X[train_X.columns] = scaler.transform(train_X[train_X.columns]) # transform training\n",
    "test_X[test_X.columns] = scaler.transform(test_X[test_X.columns])# transform test"
   ]
  },
  {
   "cell_type": "markdown",
   "metadata": {},
   "source": [
    "### 2.3 LOGISTIC REGRESSION"
   ]
  },
  {
   "cell_type": "code",
   "execution_count": 15,
   "metadata": {},
   "outputs": [
    {
     "name": "stdout",
     "output_type": "stream",
     "text": [
      "1.0\n"
     ]
    }
   ],
   "source": [
    "start = time.time()#timing\n",
    "model_LOGREG = LogisticRegression(solver='liblinear') \n",
    "model_LOGREG.fit(train_X,train_y)\n",
    "pred_LOGREG = model_LOGREG.predict(test_X)\n",
    "end = time.time()#timing\n",
    "completion_time = round(end - start,1)\n",
    "print(completion_time)\n",
    "times.append((\"Logistic Regression\",completion_time))"
   ]
  },
  {
   "cell_type": "code",
   "execution_count": 16,
   "metadata": {},
   "outputs": [
    {
     "name": "stdout",
     "output_type": "stream",
     "text": [
      "\n",
      "LOGISTIC REGRESSION MODEL: \n",
      "Accuracy = 91.0 \n",
      "ROC Accuracy = 70.0\n",
      "\n",
      "Precision = 0.66 \n",
      "Recall = 0.42 \n",
      "F1-score = 0.52\n"
     ]
    },
    {
     "data": {
      "image/png": "[encoded data removed]",
      "text/plain": [
       "<Figure size 648x504 with 2 Axes>"
      ]
     },
     "metadata": {
      "needs_background": "light"
     },
     "output_type": "display_data"
    }
   ],
   "source": [
    "acc, roc = round(accuracy_score(test_y, pred_LOGREG),2)*100, round(roc_auc_score(test_y, pred_LOGREG),2)*100\n",
    "precision, recall, f1score, support = metrics.precision_recall_fscore_support(test_y, pred_LOGREG)\n",
    "precision, recall, f1score = round(precision[1],2), round(recall[1],2), round(f1score[1],2)\n",
    "models.append((\"Logistic Regression\",acc,roc,precision, recall, f1score))\n",
    "print(\"\\nLOGISTIC REGRESSION MODEL:\",\"\\nAccuracy =\",acc,\"\\nROC Accuracy =\",roc)\n",
    "print(\"\\nPrecision =\",precision,\"\\nRecall =\",recall,\"\\nF1-score =\",f1score)\n",
    "cm = metrics.confusion_matrix(test_y, pred_LOGREG)\n",
    "cmap = sns.cm.rocket_r\n",
    "fig, ax = plt.subplots(figsize=(9,7))\n",
    "sns.heatmap(cm,annot=True, ax=ax, fmt='g',cmap=cmap); #annot=True to annotate cells\n",
    "\n",
    "# labels, title and ticks\n",
    "ax.set_xlabel('Predicted',size=12);ax.set_ylabel('True',size=12); \n",
    "ax.set_title(' Confusion Matrix',size=18); \n",
    "ax.xaxis.set_ticklabels(['No Sub:  0', 'Subscription:  1'],size=12); ax.yaxis.set_ticklabels(['No Sub:  0', 'Subscription:  1'],size=12);"
   ]
  },
  {
   "cell_type": "markdown",
   "metadata": {},
   "source": [
    "### 2.4 KNN"
   ]
  },
  {
   "cell_type": "code",
   "execution_count": 17,
   "metadata": {},
   "outputs": [
    {
     "name": "stdout",
     "output_type": "stream",
     "text": [
      "28.4\n"
     ]
    }
   ],
   "source": [
    "start = time.time()#timing\n",
    "model_KNN = KNeighborsClassifier(n_neighbors=5) \n",
    "model_KNN.fit(train_X,train_y)\n",
    "pred_KNN = model_KNN.predict(test_X)\n",
    "end = time.time()#timing\n",
    "completion_time = round(end - start,1)\n",
    "print(completion_time)\n",
    "times.append((\"K Nearest Neighbours\",completion_time))"
   ]
  },
  {
   "cell_type": "code",
   "execution_count": 18,
   "metadata": {},
   "outputs": [
    {
     "name": "stdout",
     "output_type": "stream",
     "text": [
      "\n",
      "K NEAREST NEIGHBOURS MODEL: \n",
      "Accuracy = 90.0 \n",
      "ROC Accuracy = 63.0\n",
      "\n",
      "Precision = 0.6 \n",
      "Recall = 0.3 \n",
      "F1-score = 0.4\n"
     ]
    },
    {
     "data": {
      "image/png": "[encoded data removed]",
      "text/plain": [
       "<Figure size 648x504 with 2 Axes>"
      ]
     },
     "metadata": {
      "needs_background": "light"
     },
     "output_type": "display_data"
    }
   ],
   "source": [
    "acc, roc = round(accuracy_score(test_y, pred_KNN),2)*100, round(roc_auc_score(test_y, pred_KNN),2)*100\n",
    "precision, recall, f1score, support = metrics.precision_recall_fscore_support(test_y, pred_KNN)\n",
    "precision, recall, f1score = round(precision[1],2), round(recall[1],2), round(f1score[1],2)\n",
    "models.append((\"K Nearest Neighbours\",acc,roc,precision, recall, f1score))\n",
    "print(\"\\nK NEAREST NEIGHBOURS MODEL:\",\"\\nAccuracy =\",acc,\"\\nROC Accuracy =\",roc)\n",
    "print(\"\\nPrecision =\",precision,\"\\nRecall =\",recall,\"\\nF1-score =\",f1score)\n",
    "cm = metrics.confusion_matrix(test_y, pred_KNN)\n",
    "cmap = sns.cm.rocket_r\n",
    "fig, ax = plt.subplots(figsize=(9,7))\n",
    "sns.heatmap(cm,annot=True, ax=ax, fmt='g',cmap=cmap); #annot=True to annotate cells\n",
    "\n",
    "# labels, title and ticks\n",
    "ax.set_xlabel('Predicted',size=12);ax.set_ylabel('True',size=12); \n",
    "ax.set_title(' Confusion Matrix',size=18); \n",
    "ax.xaxis.set_ticklabels(['No Sub:  0', 'Subscription:  1'],size=12); ax.yaxis.set_ticklabels(['No Sub:  0', 'Subscription:  1'],size=12);"
   ]
  },
  {
   "cell_type": "markdown",
   "metadata": {},
   "source": [
    "### 2.5 RANDOM FOREST CLASSIFIER"
   ]
  },
  {
   "cell_type": "code",
   "execution_count": 19,
   "metadata": {},
   "outputs": [
    {
     "name": "stdout",
     "output_type": "stream",
     "text": [
      "6.3\n"
     ]
    }
   ],
   "source": [
    "start = time.time()#timing\n",
    "model_RFC = RandomForestClassifier(n_estimators=100) \n",
    "model_RFC.fit(train_X,train_y)\n",
    "pred_RFC = model_RFC.predict(test_X)\n",
    "end = time.time()#timing\n",
    "completion_time = round(end - start,1)\n",
    "print(completion_time)\n",
    "times.append((\"Random Forest Classifier\",completion_time))"
   ]
  },
  {
   "cell_type": "code",
   "execution_count": 20,
   "metadata": {},
   "outputs": [
    {
     "name": "stdout",
     "output_type": "stream",
     "text": [
      "\n",
      "RANDOM FOREST CLASSIFIER: \n",
      "Accuracy = 91.0 \n",
      "ROC Accuracy = 71.0\n",
      "\n",
      "Precision = 0.66 \n",
      "Recall = 0.46 \n",
      "F1-score = 0.54\n"
     ]
    },
    {
     "data": {
      "image/png": "[encoded data removed]",
      "text/plain": [
       "<Figure size 648x504 with 2 Axes>"
      ]
     },
     "metadata": {
      "needs_background": "light"
     },
     "output_type": "display_data"
    }
   ],
   "source": [
    "acc, roc = round(accuracy_score(test_y, pred_RFC),2)*100, round(roc_auc_score(test_y, pred_RFC),2)*100\n",
    "precision, recall, f1score, support = metrics.precision_recall_fscore_support(test_y, pred_RFC)\n",
    "precision, recall, f1score = round(precision[1],2), round(recall[1],2), round(f1score[1],2)\n",
    "models.append((\"Random Forest Classifier\",acc,roc,precision, recall, f1score))\n",
    "print(\"\\nRANDOM FOREST CLASSIFIER:\",\"\\nAccuracy =\",acc,\"\\nROC Accuracy =\",roc)\n",
    "print(\"\\nPrecision =\",precision,\"\\nRecall =\",recall,\"\\nF1-score =\",f1score)\n",
    "cm = metrics.confusion_matrix(test_y, pred_RFC)\n",
    "cmap = sns.cm.rocket_r\n",
    "fig, ax = plt.subplots(figsize=(9,7))\n",
    "sns.heatmap(cm,annot=True, ax=ax, fmt='g',cmap=cmap); #annot=True to annotate cells\n",
    "\n",
    "# labels, title and ticks\n",
    "ax.set_xlabel('Predicted',size=12);ax.set_ylabel('True',size=12); \n",
    "ax.set_title(' Confusion Matrix',size=18); \n",
    "ax.xaxis.set_ticklabels(['No Sub:  0', 'Subscription:  1'],size=12); ax.yaxis.set_ticklabels(['No Sub:  0', 'Subscription:  1'],size=12);"
   ]
  },
  {
   "cell_type": "markdown",
   "metadata": {},
   "source": [
    "### 2.6 GRADIENT BOOSTING CLASSIFIER"
   ]
  },
  {
   "cell_type": "code",
   "execution_count": 21,
   "metadata": {},
   "outputs": [
    {
     "name": "stdout",
     "output_type": "stream",
     "text": [
      "7.5\n"
     ]
    }
   ],
   "source": [
    "start = time.time()#timing\n",
    "model_GBC = GradientBoostingClassifier()\n",
    "model_GBC.fit(train_X, train_y)\n",
    "pred_GBC = model_GBC.predict(test_X)\n",
    "end = time.time()#timing\n",
    "completion_time = round(end - start,1)\n",
    "print(completion_time)\n",
    "times.append((\"Gradient Boosting Classifier\",completion_time))"
   ]
  },
  {
   "cell_type": "code",
   "execution_count": 22,
   "metadata": {},
   "outputs": [
    {
     "name": "stdout",
     "output_type": "stream",
     "text": [
      "\n",
      "GRADIENT BOOSTING CLASSIFIER: \n",
      "Accuracy = 92.0 \n",
      "ROC Accuracy = 75.0\n",
      "\n",
      "Precision = 0.68 \n",
      "Recall = 0.54 \n",
      "F1-score = 0.6\n"
     ]
    },
    {
     "data": {
      "image/png": "[encoded data removed]",
      "text/plain": [
       "<Figure size 648x504 with 2 Axes>"
      ]
     },
     "metadata": {
      "needs_background": "light"
     },
     "output_type": "display_data"
    }
   ],
   "source": [
    "acc, roc = round(accuracy_score(test_y, pred_GBC),2)*100, round(roc_auc_score(test_y, pred_GBC),2)*100\n",
    "precision, recall, f1score, support = metrics.precision_recall_fscore_support(test_y, pred_GBC)\n",
    "precision, recall, f1score = round(precision[1],2), round(recall[1],2), round(f1score[1],2)\n",
    "models.append((\"Gradient Boosting Classifier\",acc,roc,precision, recall, f1score))\n",
    "print(\"\\nGRADIENT BOOSTING CLASSIFIER:\",\"\\nAccuracy =\",acc,\"\\nROC Accuracy =\",roc)\n",
    "print(\"\\nPrecision =\",precision,\"\\nRecall =\",recall,\"\\nF1-score =\",f1score)\n",
    "cm = metrics.confusion_matrix(test_y, pred_GBC)\n",
    "cmap = sns.cm.rocket_r\n",
    "fig, ax = plt.subplots(figsize=(9,7))\n",
    "sns.heatmap(cm,annot=True, ax=ax, fmt='g',cmap=cmap); #annot=True to annotate cells\n",
    "\n",
    "# labels, title and ticks\n",
    "ax.set_xlabel('Predicted',size=12);ax.set_ylabel('True',size=12); \n",
    "ax.set_title(' Confusion Matrix',size=18); \n",
    "ax.xaxis.set_ticklabels(['No Sub:  0', 'Subscription:  1'],size=12); ax.yaxis.set_ticklabels(['No Sub:  0', 'Subscription:  1'],size=12);"
   ]
  },
  {
   "cell_type": "markdown",
   "metadata": {},
   "source": [
    "### 2.7 SUPPORT VECTOR MACHINE"
   ]
  },
  {
   "cell_type": "code",
   "execution_count": 23,
   "metadata": {},
   "outputs": [
    {
     "name": "stdout",
     "output_type": "stream",
     "text": [
      "49.3\n"
     ]
    }
   ],
   "source": [
    "start = time.time()#timing\n",
    "model_SVM = svm.SVC(gamma='scale')\n",
    "model_SVM.fit(train_X, train_y)  \n",
    "pred_SVM = model_SVM.predict(test_X)\n",
    "end = time.time()#timing\n",
    "completion_time = round(end - start,1)\n",
    "print(completion_time)\n",
    "times.append((\"Support Vector Machine\",completion_time))"
   ]
  },
  {
   "cell_type": "code",
   "execution_count": 24,
   "metadata": {},
   "outputs": [
    {
     "name": "stdout",
     "output_type": "stream",
     "text": [
      "\n",
      "SUPPORT VECTOR MACHINE: \n",
      "Accuracy = 91.0 \n",
      "ROC Accuracy = 67.0\n",
      "\n",
      "Precision = 0.67 \n",
      "Recall = 0.36 \n",
      "F1-score = 0.47\n"
     ]
    },
    {
     "data": {
      "image/png": "[encoded data removed]",
      "text/plain": [
       "<Figure size 648x504 with 2 Axes>"
      ]
     },
     "metadata": {
      "needs_background": "light"
     },
     "output_type": "display_data"
    }
   ],
   "source": [
    "acc, roc = round(accuracy_score(test_y, pred_SVM),2)*100, round(roc_auc_score(test_y, pred_SVM),2)*100\n",
    "precision, recall, f1score, support = metrics.precision_recall_fscore_support(test_y, pred_SVM)\n",
    "precision, recall, f1score = round(precision[1],2), round(recall[1],2), round(f1score[1],2)\n",
    "models.append((\"Suport Vector Machine\",acc,roc,precision, recall, f1score))\n",
    "print(\"\\nSUPPORT VECTOR MACHINE:\",\"\\nAccuracy =\",acc,\"\\nROC Accuracy =\",roc)#Support Vector Machine\n",
    "print(\"\\nPrecision =\",precision,\"\\nRecall =\",recall,\"\\nF1-score =\",f1score)\n",
    "cm = metrics.confusion_matrix(test_y, pred_SVM)\n",
    "cmap = sns.cm.rocket_r\n",
    "fig, ax = plt.subplots(figsize=(9,7))\n",
    "sns.heatmap(cm,annot=True, ax=ax, fmt='g',cmap=cmap); #annot=True to annotate cells\n",
    "\n",
    "# labels, title and ticks\n",
    "ax.set_xlabel('Predicted',size=12);ax.set_ylabel('True',size=12); \n",
    "ax.set_title(' Confusion Matrix',size=18); \n",
    "ax.xaxis.set_ticklabels(['No Sub:  0', 'Subscription:  1'],size=12); ax.yaxis.set_ticklabels(['No Sub:  0', 'Subscription:  1'],size=12);"
   ]
  },
  {
   "cell_type": "markdown",
   "metadata": {},
   "source": [
    "### 2.8 NEURAL NETWORK"
   ]
  },
  {
   "cell_type": "code",
   "execution_count": 25,
   "metadata": {},
   "outputs": [
    {
     "name": "stderr",
     "output_type": "stream",
     "text": [
      "Using TensorFlow backend.\n"
     ]
    }
   ],
   "source": [
    "from keras.models import Sequential\n",
    "from keras.layers import Dense"
   ]
  },
  {
   "cell_type": "code",
   "execution_count": 26,
   "metadata": {},
   "outputs": [
    {
     "name": "stdout",
     "output_type": "stream",
     "text": [
      "48\n"
     ]
    }
   ],
   "source": [
    "num_inputs_layer1 = len(train_X.columns)\n",
    "print(num_inputs_layer1)"
   ]
  },
  {
   "cell_type": "code",
   "execution_count": 27,
   "metadata": {},
   "outputs": [],
   "source": [
    "train_X_NN = train_X.values # NN will use numpy arrays instead of pandas\n",
    "train_y_NN = train_y.values.T"
   ]
  },
  {
   "cell_type": "code",
   "execution_count": 28,
   "metadata": {
    "scrolled": true
   },
   "outputs": [
    {
     "name": "stdout",
     "output_type": "stream",
     "text": [
      "Epoch 1/30\n",
      " - 7s - loss: 0.2357 - acc: 0.8949\n",
      "Epoch 2/30\n",
      " - 4s - loss: 0.2019 - acc: 0.9065\n",
      "Epoch 3/30\n",
      " - 5s - loss: 0.1979 - acc: 0.9090\n",
      "Epoch 4/30\n",
      " - 4s - loss: 0.1965 - acc: 0.9089\n",
      "Epoch 5/30\n",
      " - 4s - loss: 0.1959 - acc: 0.9093\n",
      "Epoch 6/30\n",
      " - 4s - loss: 0.1952 - acc: 0.9103\n",
      "Epoch 7/30\n",
      " - 4s - loss: 0.1941 - acc: 0.9106\n",
      "Epoch 8/30\n",
      " - 4s - loss: 0.1938 - acc: 0.9107\n",
      "Epoch 9/30\n",
      " - 4s - loss: 0.1933 - acc: 0.9103\n",
      "Epoch 10/30\n",
      " - 4s - loss: 0.1929 - acc: 0.9105\n",
      "Epoch 11/30\n",
      " - 5s - loss: 0.1927 - acc: 0.9109\n",
      "Epoch 12/30\n",
      " - 4s - loss: 0.1921 - acc: 0.9114\n",
      "Epoch 13/30\n",
      " - 4s - loss: 0.1919 - acc: 0.9103\n",
      "Epoch 14/30\n",
      " - 4s - loss: 0.1922 - acc: 0.9105\n",
      "Epoch 15/30\n",
      " - 4s - loss: 0.1916 - acc: 0.9112\n",
      "Epoch 16/30\n",
      " - 4s - loss: 0.1917 - acc: 0.9106\n",
      "Epoch 17/30\n",
      " - 4s - loss: 0.1911 - acc: 0.9114\n",
      "Epoch 18/30\n",
      " - 4s - loss: 0.1912 - acc: 0.9109\n",
      "Epoch 19/30\n",
      " - 4s - loss: 0.1908 - acc: 0.9119\n",
      "Epoch 20/30\n",
      " - 4s - loss: 0.1906 - acc: 0.9119\n",
      "Epoch 21/30\n",
      " - 4s - loss: 0.1906 - acc: 0.9113\n",
      "Epoch 22/30\n",
      " - 4s - loss: 0.1904 - acc: 0.9117\n",
      "Epoch 23/30\n",
      " - 4s - loss: 0.1903 - acc: 0.9108\n",
      "Epoch 24/30\n",
      " - 4s - loss: 0.1905 - acc: 0.9115\n",
      "Epoch 25/30\n",
      " - 4s - loss: 0.1903 - acc: 0.9101\n",
      "Epoch 26/30\n",
      " - 4s - loss: 0.1899 - acc: 0.9103\n",
      "Epoch 27/30\n",
      " - 4s - loss: 0.1894 - acc: 0.9116\n",
      "Epoch 28/30\n",
      " - 4s - loss: 0.1890 - acc: 0.9116\n",
      "Epoch 29/30\n",
      " - 4s - loss: 0.1887 - acc: 0.9119\n",
      "Epoch 30/30\n",
      " - 4s - loss: 0.1882 - acc: 0.9118\n",
      "126.5\n"
     ]
    }
   ],
   "source": [
    "start = time.time()\n",
    "# create model\n",
    "model = Sequential()\n",
    "model.add(Dense(4, input_dim=num_inputs_layer1, kernel_initializer=\"uniform\", activation='relu'))\n",
    "model.add(Dense(6, kernel_initializer=\"uniform\", activation='relu'))\n",
    "model.add(Dense(1, activation='sigmoid'))\n",
    "# Compile model\n",
    "model.compile(loss='binary_crossentropy', optimizer='adam',metrics=['accuracy'])\n",
    "# Fit the model\n",
    "model.fit(train_X_NN, train_y, epochs = 30, batch_size=10,  verbose=2)\n",
    "end = time.time()\n",
    "completion_time = round(end - start,1)\n",
    "print(completion_time)\n",
    "times.append((\"Neural Network\",completion_time))"
   ]
  },
  {
   "cell_type": "code",
   "execution_count": 29,
   "metadata": {},
   "outputs": [],
   "source": [
    "#test_X = test_X.values\n",
    "pred_NN = model.predict(test_X)"
   ]
  },
  {
   "cell_type": "code",
   "execution_count": 30,
   "metadata": {},
   "outputs": [],
   "source": [
    "pred_NN = pd.Series([1 if x > 0.499 else 0 for x in pred_NN])"
   ]
  },
  {
   "cell_type": "code",
   "execution_count": 31,
   "metadata": {
    "scrolled": true
   },
   "outputs": [
    {
     "name": "stdout",
     "output_type": "stream",
     "text": [
      "\n",
      "NEURAL NETWORK: \n",
      "Accuracy = 91.0 \n",
      "ROC Accuracy = 75.0\n",
      "\n",
      "Precision = 0.61 \n",
      "Recall = 0.54 \n",
      "F1-score = 0.57\n"
     ]
    },
    {
     "data": {
      "image/png": "[encoded data removed]",
      "text/plain": [
       "<Figure size 648x504 with 2 Axes>"
      ]
     },
     "metadata": {
      "needs_background": "light"
     },
     "output_type": "display_data"
    }
   ],
   "source": [
    "acc, roc = round(accuracy_score(test_y, pred_NN),2)*100, round(roc_auc_score(test_y, pred_NN),2)*100\n",
    "precision, recall, f1score, support = metrics.precision_recall_fscore_support(test_y, pred_NN)\n",
    "precision, recall, f1score = round(precision[1],2), round(recall[1],2), round(f1score[1],2)\n",
    "models.append((\"Neural Network\",acc,roc,precision, recall, f1score))\n",
    "print(\"\\nNEURAL NETWORK:\",\"\\nAccuracy =\",acc,\"\\nROC Accuracy =\",roc)#Support Vector Machine\n",
    "print(\"\\nPrecision =\",precision,\"\\nRecall =\",recall,\"\\nF1-score =\",f1score)\n",
    "cm = metrics.confusion_matrix(test_y, pred_NN)\n",
    "cmap = sns.cm.rocket_r\n",
    "fig, ax = plt.subplots(figsize=(9,7))\n",
    "sns.heatmap(cm,annot=True, ax=ax, fmt='g',cmap=cmap); #annot=True to annotate cells\n",
    "\n",
    "# labels, title and ticks\n",
    "ax.set_xlabel('Predicted',size=12);ax.set_ylabel('True',size=12); \n",
    "ax.set_title(' Confusion Matrix',size=18); \n",
    "ax.xaxis.set_ticklabels(['No Sub:  0', 'Subscription:  1'],size=12); ax.yaxis.set_ticklabels(['No Sub:  0', 'Subscription:  1'],size=12);"
   ]
  },
  {
   "cell_type": "markdown",
   "metadata": {},
   "source": [
    "### 2.9 Categorizing Decision Models."
   ]
  },
  {
   "cell_type": "code",
   "execution_count": 32,
   "metadata": {},
   "outputs": [
    {
     "data": {
      "text/html": [
       "<div>\n",
       "<style scoped>\n",
       "    .dataframe tbody tr th:only-of-type {\n",
       "        vertical-align: middle;\n",
       "    }\n",
       "\n",
       "    .dataframe tbody tr th {\n",
       "        vertical-align: top;\n",
       "    }\n",
       "\n",
       "    .dataframe thead th {\n",
       "        text-align: right;\n",
       "    }\n",
       "</style>\n",
       "<table border=\"1\" class=\"dataframe\">\n",
       "  <thead>\n",
       "    <tr style=\"text-align: right;\">\n",
       "      <th></th>\n",
       "      <th>Algoithm</th>\n",
       "      <th>Accuracy</th>\n",
       "      <th>ROC Accuracy</th>\n",
       "      <th>Precsion</th>\n",
       "      <th>Recall</th>\n",
       "      <th>F1-score</th>\n",
       "    </tr>\n",
       "  </thead>\n",
       "  <tbody>\n",
       "    <tr>\n",
       "      <th>3</th>\n",
       "      <td>Gradient Boosting Classifier</td>\n",
       "      <td>92.0</td>\n",
       "      <td>75.0</td>\n",
       "      <td>0.68</td>\n",
       "      <td>0.54</td>\n",
       "      <td>0.60</td>\n",
       "    </tr>\n",
       "    <tr>\n",
       "      <th>5</th>\n",
       "      <td>Neural Network</td>\n",
       "      <td>91.0</td>\n",
       "      <td>75.0</td>\n",
       "      <td>0.61</td>\n",
       "      <td>0.54</td>\n",
       "      <td>0.57</td>\n",
       "    </tr>\n",
       "    <tr>\n",
       "      <th>2</th>\n",
       "      <td>Random Forest Classifier</td>\n",
       "      <td>91.0</td>\n",
       "      <td>71.0</td>\n",
       "      <td>0.66</td>\n",
       "      <td>0.46</td>\n",
       "      <td>0.54</td>\n",
       "    </tr>\n",
       "    <tr>\n",
       "      <th>0</th>\n",
       "      <td>Logistic Regression</td>\n",
       "      <td>91.0</td>\n",
       "      <td>70.0</td>\n",
       "      <td>0.66</td>\n",
       "      <td>0.42</td>\n",
       "      <td>0.52</td>\n",
       "    </tr>\n",
       "    <tr>\n",
       "      <th>4</th>\n",
       "      <td>Suport Vector Machine</td>\n",
       "      <td>91.0</td>\n",
       "      <td>67.0</td>\n",
       "      <td>0.67</td>\n",
       "      <td>0.36</td>\n",
       "      <td>0.47</td>\n",
       "    </tr>\n",
       "    <tr>\n",
       "      <th>1</th>\n",
       "      <td>K Nearest Neighbours</td>\n",
       "      <td>90.0</td>\n",
       "      <td>63.0</td>\n",
       "      <td>0.60</td>\n",
       "      <td>0.30</td>\n",
       "      <td>0.40</td>\n",
       "    </tr>\n",
       "  </tbody>\n",
       "</table>\n",
       "</div>"
      ],
      "text/plain": [
       "                       Algoithm  Accuracy  ROC Accuracy  Precsion  Recall  \\\n",
       "3  Gradient Boosting Classifier      92.0          75.0      0.68    0.54   \n",
       "5                Neural Network      91.0          75.0      0.61    0.54   \n",
       "2      Random Forest Classifier      91.0          71.0      0.66    0.46   \n",
       "0           Logistic Regression      91.0          70.0      0.66    0.42   \n",
       "4         Suport Vector Machine      91.0          67.0      0.67    0.36   \n",
       "1          K Nearest Neighbours      90.0          63.0      0.60    0.30   \n",
       "\n",
       "   F1-score  \n",
       "3      0.60  \n",
       "5      0.57  \n",
       "2      0.54  \n",
       "0      0.52  \n",
       "4      0.47  \n",
       "1      0.40  "
      ]
     },
     "execution_count": 32,
     "metadata": {},
     "output_type": "execute_result"
    }
   ],
   "source": [
    "models_df  = pd.DataFrame(columns = [\"Algoithm\",\"Accuracy\",\"ROC Accuracy\",\"Precsion\",\"Recall\",\"F1-score\"])\n",
    "for row in models:\n",
    "    models_df.loc[len(models_df)] = row\n",
    "models_df.sort_values(\"ROC Accuracy\", ascending=False)"
   ]
  },
  {
   "cell_type": "markdown",
   "metadata": {},
   "source": [
    "### ALGORITHM COMPLETION TIMES"
   ]
  },
  {
   "cell_type": "code",
   "execution_count": 33,
   "metadata": {},
   "outputs": [
    {
     "data": {
      "text/html": [
       "<div>\n",
       "<style scoped>\n",
       "    .dataframe tbody tr th:only-of-type {\n",
       "        vertical-align: middle;\n",
       "    }\n",
       "\n",
       "    .dataframe tbody tr th {\n",
       "        vertical-align: top;\n",
       "    }\n",
       "\n",
       "    .dataframe thead th {\n",
       "        text-align: right;\n",
       "    }\n",
       "</style>\n",
       "<table border=\"1\" class=\"dataframe\">\n",
       "  <thead>\n",
       "    <tr style=\"text-align: right;\">\n",
       "      <th></th>\n",
       "      <th>Algoithm</th>\n",
       "      <th>Completion Time</th>\n",
       "    </tr>\n",
       "  </thead>\n",
       "  <tbody>\n",
       "    <tr>\n",
       "      <th>5</th>\n",
       "      <td>Neural Network</td>\n",
       "      <td>126.5</td>\n",
       "    </tr>\n",
       "    <tr>\n",
       "      <th>4</th>\n",
       "      <td>Support Vector Machine</td>\n",
       "      <td>49.3</td>\n",
       "    </tr>\n",
       "    <tr>\n",
       "      <th>1</th>\n",
       "      <td>K Nearest Neighbours</td>\n",
       "      <td>28.4</td>\n",
       "    </tr>\n",
       "    <tr>\n",
       "      <th>3</th>\n",
       "      <td>Gradient Boosting Classifier</td>\n",
       "      <td>7.5</td>\n",
       "    </tr>\n",
       "    <tr>\n",
       "      <th>2</th>\n",
       "      <td>Random Forest Classifier</td>\n",
       "      <td>6.3</td>\n",
       "    </tr>\n",
       "    <tr>\n",
       "      <th>0</th>\n",
       "      <td>Logistic Regression</td>\n",
       "      <td>1.0</td>\n",
       "    </tr>\n",
       "  </tbody>\n",
       "</table>\n",
       "</div>"
      ],
      "text/plain": [
       "                       Algoithm  Completion Time\n",
       "5                Neural Network            126.5\n",
       "4        Support Vector Machine             49.3\n",
       "1          K Nearest Neighbours             28.4\n",
       "3  Gradient Boosting Classifier              7.5\n",
       "2      Random Forest Classifier              6.3\n",
       "0           Logistic Regression              1.0"
      ]
     },
     "execution_count": 33,
     "metadata": {},
     "output_type": "execute_result"
    }
   ],
   "source": [
    "times_df  = pd.DataFrame(columns = [\"Algoithm\",\"Completion Time\"])\n",
    "for row in times:\n",
    "    times_df.loc[len(times_df)] = row\n",
    "times_df.sort_values(\"Completion Time\", ascending=False)"
   ]
  },
  {
   "cell_type": "markdown",
   "metadata": {},
   "source": [
    "### 3. ASSESSING THE IMPORTANCE OF CALL DURATION VARIABLE\n",
    "Call Duration is the most impotant factor in all tests."
   ]
  },
  {
   "cell_type": "markdown",
   "metadata": {},
   "source": [
    "### 3.1 LINEAR CORRELATION LEVELS"
   ]
  },
  {
   "cell_type": "code",
   "execution_count": 34,
   "metadata": {},
   "outputs": [
    {
     "name": "stdout",
     "output_type": "stream",
     "text": [
      "Linear Correlations with target(y), in order of importance:\n",
      "\n",
      "duration                        0.41\n",
      "nr.employed                     -0.35\n",
      "pdays                           -0.32\n",
      "poutcome_success                0.32\n",
      "euribor3m                       -0.31\n",
      "emp.var.rate                    -0.3\n",
      "previous                        0.23\n",
      "poutcome_nonexistent            -0.19\n",
      "contact_telephone               -0.14\n",
      "contact_cellular                0.14\n",
      "cons.price.idx                  -0.14\n",
      "default                         -0.1\n",
      "job_student                     0.09\n",
      "job_retired                     0.09\n",
      "job_blue-collar                 -0.07\n",
      "campaign                        -0.07\n",
      "cons.conf.idx                   0.05\n",
      "marital_single                  0.05\n",
      "education_university.degree     0.05\n",
      "education_basic.9y              -0.05\n",
      "marital_married                 -0.04\n",
      "month                           0.04\n",
      "job_services                    -0.03\n",
      "poutcome_failure                0.03\n",
      "job_admin.                      0.03\n",
      "age                             0.03\n",
      "education_basic.6y              -0.02\n",
      "education_unknown               0.02\n",
      "day_of_week_mon                 -0.02\n",
      "job_entrepreneur                -0.02\n",
      "job_unemployed                  0.01\n",
      "day_of_week_thu                 0.01\n",
      "housing                         0.01\n",
      "education_basic.4y              -0.01\n",
      "marital_divorced                -0.01\n",
      "day_of_week_tue                 0.01\n",
      "education_high.school           -0.01\n",
      "education_illiterate            0.01\n",
      "day_of_week_fri                 -0.01\n",
      "job_housemaid                   -0.01\n",
      "day_of_week_wed                 0.01\n",
      "job_technician                  -0.01\n",
      "marital_unknown                 0.01\n",
      "loan                            -0.0\n",
      "job_self-employed               -0.0\n",
      "education_professional.course   0.0\n",
      "job_management                  -0.0\n",
      "job_unknown                     -0.0\n"
     ]
    }
   ],
   "source": [
    "linear_corrs = []\n",
    "for col in df.columns:\n",
    "    linear_corrs.append((abs(df[col].corr(df['y'])),col,round(df[col].corr(df['y']),2)))\n",
    "importances = sorted(linear_corrs,reverse=True)[1:]\n",
    "print(\"Linear Correlations with target(y), in order of importance:\\n\")\n",
    "for x in importances:\n",
    "    print(x[1],\" \"*(30-len(x[1])),x[2])"
   ]
  },
  {
   "cell_type": "markdown",
   "metadata": {},
   "source": [
    "### 3.2 RANDOM FOREST PREDICTOR IMPORTANCES/WEIGHTS\n",
    "Call Duration accounts for 28% of the predictive ability of the GBC Algo."
   ]
  },
  {
   "cell_type": "code",
   "execution_count": 35,
   "metadata": {},
   "outputs": [
    {
     "name": "stdout",
     "output_type": "stream",
     "text": [
      "RANDOM FOREST PREDICTOR IMPORTANCES/WEIGHTS\n",
      "\n",
      "duration              29.0\n",
      "euribor3m             10.0\n",
      "age                   8.0\n",
      "nr.employed           5.0\n",
      "cons.conf.idx         4.0\n",
      "campaign              4.0\n",
      "pdays                 3.0\n",
      "poutcome_success      2.0\n",
      "month                 2.0\n",
      "housing               2.0\n",
      "emp.var.rate          2.0\n",
      "cons.price.idx        2.0\n",
      "previous              1.0\n",
      "poutcome_nonexistent  1.0\n",
      "poutcome_failure      1.0\n",
      "marital_single        1.0\n",
      "marital_married       1.0\n",
      "marital_divorced      1.0\n",
      "loan                  1.0\n",
      "job_technician        1.0\n",
      "job_services          1.0\n",
      "job_retired           1.0\n",
      "job_management        1.0\n",
      "job_blue-collar       1.0\n",
      "job_admin.            1.0\n",
      "education_university.degree  1.0\n",
      "education_professional.course  1.0\n",
      "education_high.school  1.0\n",
      "education_basic.9y    1.0\n",
      "education_basic.4y    1.0\n",
      "default               1.0\n",
      "day_of_week_wed       1.0\n",
      "day_of_week_tue       1.0\n",
      "day_of_week_thu       1.0\n",
      "day_of_week_mon       1.0\n",
      "day_of_week_fri       1.0\n",
      "contact_telephone     1.0\n",
      "contact_cellular      1.0\n",
      "marital_unknown       0.0\n",
      "job_unknown           0.0\n",
      "job_unemployed        0.0\n",
      "job_student           0.0\n",
      "job_self-employed     0.0\n",
      "job_housemaid         0.0\n",
      "job_entrepreneur      0.0\n",
      "education_unknown     0.0\n",
      "education_illiterate  0.0\n",
      "education_basic.6y    0.0\n"
     ]
    }
   ],
   "source": [
    "importances = [round(round(x,2)*100) for x in model_RFC.feature_importances_]\n",
    "feat_vars = list(train_X.columns)\n",
    "feature_importances = sorted(list(zip(importances,feat_vars)),reverse=True)\n",
    "print(\"RANDOM FOREST PREDICTOR IMPORTANCES/WEIGHTS\\n\")\n",
    "for x in feature_importances:\n",
    "    print(x[1],\" \"*(20-len(x[1])),x[0])"
   ]
  },
  {
   "cell_type": "markdown",
   "metadata": {},
   "source": [
    "### 3.3 GRADIENT BOOSTING ALGO. PREDICTOR IMPORTANCES/WEIGHTS\n",
    "Call Duration accounts for 48% of the predictive ability of the GBC Algo."
   ]
  },
  {
   "cell_type": "code",
   "execution_count": 36,
   "metadata": {},
   "outputs": [
    {
     "name": "stdout",
     "output_type": "stream",
     "text": [
      "GRADIENT BOOSTING ALGO. PREDICTOR IMPORTANCES/WEIGHTS\n",
      "\n",
      "duration              48.0\n",
      "nr.employed           27.0\n",
      "euribor3m             9.0\n",
      "pdays                 4.0\n",
      "month                 3.0\n",
      "poutcome_success      2.0\n",
      "cons.conf.idx         2.0\n",
      "emp.var.rate          1.0\n",
      "cons.price.idx        1.0\n",
      "age                   1.0\n",
      "previous              0.0\n",
      "poutcome_nonexistent  0.0\n",
      "poutcome_failure      0.0\n",
      "marital_unknown       0.0\n",
      "marital_single        0.0\n",
      "marital_married       0.0\n",
      "marital_divorced      0.0\n",
      "loan                  0.0\n",
      "job_unknown           0.0\n",
      "job_unemployed        0.0\n",
      "job_technician        0.0\n",
      "job_student           0.0\n",
      "job_services          0.0\n",
      "job_self-employed     0.0\n",
      "job_retired           0.0\n",
      "job_management        0.0\n",
      "job_housemaid         0.0\n",
      "job_entrepreneur      0.0\n",
      "job_blue-collar       0.0\n",
      "job_admin.            0.0\n",
      "housing               0.0\n",
      "education_unknown     0.0\n",
      "education_university.degree  0.0\n",
      "education_professional.course  0.0\n",
      "education_illiterate  0.0\n",
      "education_high.school  0.0\n",
      "education_basic.9y    0.0\n",
      "education_basic.6y    0.0\n",
      "education_basic.4y    0.0\n",
      "default               0.0\n",
      "day_of_week_wed       0.0\n",
      "day_of_week_tue       0.0\n",
      "day_of_week_thu       0.0\n",
      "day_of_week_mon       0.0\n",
      "day_of_week_fri       0.0\n",
      "contact_telephone     0.0\n",
      "contact_cellular      0.0\n",
      "campaign              0.0\n"
     ]
    }
   ],
   "source": [
    "importances = [round(round(x,2)*100) for x in model_GBC.feature_importances_]\n",
    "feat_vars = list(train_X.columns)\n",
    "feature_importances = sorted(list(zip(importances,feat_vars)),reverse=True)\n",
    "print(\"GRADIENT BOOSTING ALGO. PREDICTOR IMPORTANCES/WEIGHTS\\n\")\n",
    "for x in feature_importances:\n",
    "    print(x[1],\" \"*(20-len(x[1])),x[0])"
   ]
  },
  {
   "cell_type": "code",
   "execution_count": null,
   "metadata": {},
   "outputs": [],
   "source": []
  },
  {
   "cell_type": "code",
   "execution_count": null,
   "metadata": {},
   "outputs": [],
   "source": []
  },
  {
   "cell_type": "code",
   "execution_count": null,
   "metadata": {},
   "outputs": [],
   "source": []
  }
 ],
 "metadata": {
  "kernelspec": {
   "display_name": "Python 3",
   "language": "python",
   "name": "python3"
  },
  "language_info": {
   "codemirror_mode": {
    "name": "ipython",
    "version": 3
   },
   "file_extension": ".py",
   "mimetype": "text/x-python",
   "name": "python",
   "nbconvert_exporter": "python",
   "pygments_lexer": "ipython3",
   "version": "3.6.8"
  }
 },
 "nbformat": 4,
 "nbformat_minor": 2
}
